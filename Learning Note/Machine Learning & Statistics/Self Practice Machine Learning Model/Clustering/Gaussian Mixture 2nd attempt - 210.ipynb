{
 "cells": [
  {
   "cell_type": "markdown",
   "id": "dc3f0717",
   "metadata": {},
   "source": [
    "The goal is to find the effectiveness of a TV ad campaign. \n",
    "\n",
    "In order to do so, we need to identify areas where a TV ad campaign will be most effective. (Those are the 15 DMAs.)\n",
    "\n",
    "Furthermore, we want to try and see how much the TV ad helps improve sales. It would be nice if there were a target area for TV ads and another area that is very similar to the target are where we don't do TV ads. Then we can compare the sales results of the two areas and make an estimate of how much boost was achieved through the TV ad campaign. Once we know that then they can either make changes to the ad to make it better or decide to expand the TV ad campaign.\n",
    "\n",
    "Looks like they will try the TV ads on the 15 DMAs and then compare it to similar areas from the 195 DMAs. And since it is difficult to measure the effectiveness from just one DMA, its nice to have them as groups. So that is why we clustered them into groups.\n"
   ]
  },
  {
   "cell_type": "code",
   "execution_count": 105,
   "id": "72acf355",
   "metadata": {},
   "outputs": [],
   "source": [
    "import pandas as pd\n",
    "import numpy as np\n",
    "import matplotlib.pyplot as plt\n",
    "%matplotlib inline \n",
    "import seaborn as sns\n",
    "from sklearn.preprocessing import StandardScaler\n",
    "from sklearn.mixture import GaussianMixture\n",
    "\n",
    "# Ignore harmless warnings\n",
    "import warnings\n",
    "warnings.filterwarnings(\"ignore\")"
   ]
  },
  {
   "cell_type": "code",
   "execution_count": 106,
   "id": "1ee36d74",
   "metadata": {
    "scrolled": true
   },
   "outputs": [],
   "source": [
    "df = pd.read_excel(r\"C:\\Users\\codchen1\\Desktop\\Clustering Result\\DMA_RenoRerun_final.xlsx\")\n",
    "df.columns = map(str.lower, df.columns) # lowercase all columns\n",
    "df.columns = df.columns.str.replace(' ', '_') # replacing column blank spaces with '_'"
   ]
  },
  {
   "cell_type": "code",
   "execution_count": 107,
   "id": "b6e059d4",
   "metadata": {
    "scrolled": true
   },
   "outputs": [],
   "source": [
    "df = df.drop(['fb', 'pinterest', 'twitter', 'clusters', 'group'], axis=1)"
   ]
  },
  {
   "cell_type": "code",
   "execution_count": 108,
   "id": "31175ba3",
   "metadata": {},
   "outputs": [],
   "source": [
    "# Feature Scaling\n",
    "from sklearn.preprocessing import StandardScaler\n",
    "sc = StandardScaler()\n",
    "columns_to_scale = ['dma_count', '60+', 'income100k+', 'democrat', 'republican',\n",
    "       'ctv', 'lineartv', 'abrysvo', 'comirnatyquint1+2', 'comirnatymmpv',\n",
    "       'prevnardecile1below65', 'prevnardecile1above65', 'pharmacy_count']\n",
    "df[columns_to_scale] = sc.fit_transform(df[columns_to_scale])"
   ]
  },
  {
   "cell_type": "code",
   "execution_count": 109,
   "id": "5026e7bd",
   "metadata": {},
   "outputs": [],
   "source": [
    "# Include only the heavy_up\n",
    "dma13 = df[df.dma.isin(['Atlanta (AL-GA-NC)', 'Boston (Manchester) (MA-NH-VT)', \n",
    "                         'Chicago (IL-IN)', 'Dallas-Ft. Worth (TX)', 'Denver (CO-MT-NE-WY)', \n",
    "                         'Minneapolis-St. Paul (MN-WI)', 'Orlando-Daytona Bch-Melbrn (FL)', \n",
    "                        'Philadelphia (DE-NJ-PA)', 'Phoenix (AZ)', 'San Francisco-Oak-San Jose (CA)',\n",
    "                        'Seattle-Tacoma (WA)', 'Tampa-St. Pete (Sarasota) (FL)', \n",
    "                         'Washington, DC (Hagrstwn) (DC-MD-PA-VA-WV)'])].reset_index(drop=True)\n",
    "\n",
    "# Exclude the 15 states.\n",
    "dma195 = df[~df.dma.isin(['Atlanta (AL-GA-NC)', 'Boston (Manchester) (MA-NH-VT)', \n",
    "                         'Chicago (IL-IN)', 'Dallas-Ft. Worth (TX)', 'Denver (CO-MT-NE-WY)', \n",
    "                         'Minneapolis-St. Paul (MN-WI)', 'Orlando-Daytona Bch-Melbrn (FL)', \n",
    "                        'Philadelphia (DE-NJ-PA)', 'Phoenix (AZ)', 'San Francisco-Oak-San Jose (CA)',\n",
    "                        'Seattle-Tacoma (WA)', 'Tampa-St. Pete (Sarasota) (FL)', \n",
    "                         'Washington, DC (Hagrstwn) (DC-MD-PA-VA-WV)', 'New York (CT-NJ-NY-PA)',\n",
    "                          'Los Angeles (CA)'])].reset_index(drop=True)\n",
    "\n",
    "# dma195.dma.count()\n",
    "# dma13.dma.count()"
   ]
  },
  {
   "cell_type": "code",
   "execution_count": 110,
   "id": "6bb445b2",
   "metadata": {},
   "outputs": [],
   "source": [
    "gm = GaussianMixture(n_components=2)"
   ]
  },
  {
   "cell_type": "code",
   "execution_count": 111,
   "id": "6cb290bd",
   "metadata": {},
   "outputs": [
    {
     "data": {
      "text/html": [
       "<style>#sk-container-id-9 {color: black;background-color: white;}#sk-container-id-9 pre{padding: 0;}#sk-container-id-9 div.sk-toggleable {background-color: white;}#sk-container-id-9 label.sk-toggleable__label {cursor: pointer;display: block;width: 100%;margin-bottom: 0;padding: 0.3em;box-sizing: border-box;text-align: center;}#sk-container-id-9 label.sk-toggleable__label-arrow:before {content: \"▸\";float: left;margin-right: 0.25em;color: #696969;}#sk-container-id-9 label.sk-toggleable__label-arrow:hover:before {color: black;}#sk-container-id-9 div.sk-estimator:hover label.sk-toggleable__label-arrow:before {color: black;}#sk-container-id-9 div.sk-toggleable__content {max-height: 0;max-width: 0;overflow: hidden;text-align: left;background-color: #f0f8ff;}#sk-container-id-9 div.sk-toggleable__content pre {margin: 0.2em;color: black;border-radius: 0.25em;background-color: #f0f8ff;}#sk-container-id-9 input.sk-toggleable__control:checked~div.sk-toggleable__content {max-height: 200px;max-width: 100%;overflow: auto;}#sk-container-id-9 input.sk-toggleable__control:checked~label.sk-toggleable__label-arrow:before {content: \"▾\";}#sk-container-id-9 div.sk-estimator input.sk-toggleable__control:checked~label.sk-toggleable__label {background-color: #d4ebff;}#sk-container-id-9 div.sk-label input.sk-toggleable__control:checked~label.sk-toggleable__label {background-color: #d4ebff;}#sk-container-id-9 input.sk-hidden--visually {border: 0;clip: rect(1px 1px 1px 1px);clip: rect(1px, 1px, 1px, 1px);height: 1px;margin: -1px;overflow: hidden;padding: 0;position: absolute;width: 1px;}#sk-container-id-9 div.sk-estimator {font-family: monospace;background-color: #f0f8ff;border: 1px dotted black;border-radius: 0.25em;box-sizing: border-box;margin-bottom: 0.5em;}#sk-container-id-9 div.sk-estimator:hover {background-color: #d4ebff;}#sk-container-id-9 div.sk-parallel-item::after {content: \"\";width: 100%;border-bottom: 1px solid gray;flex-grow: 1;}#sk-container-id-9 div.sk-label:hover label.sk-toggleable__label {background-color: #d4ebff;}#sk-container-id-9 div.sk-serial::before {content: \"\";position: absolute;border-left: 1px solid gray;box-sizing: border-box;top: 0;bottom: 0;left: 50%;z-index: 0;}#sk-container-id-9 div.sk-serial {display: flex;flex-direction: column;align-items: center;background-color: white;padding-right: 0.2em;padding-left: 0.2em;position: relative;}#sk-container-id-9 div.sk-item {position: relative;z-index: 1;}#sk-container-id-9 div.sk-parallel {display: flex;align-items: stretch;justify-content: center;background-color: white;position: relative;}#sk-container-id-9 div.sk-item::before, #sk-container-id-9 div.sk-parallel-item::before {content: \"\";position: absolute;border-left: 1px solid gray;box-sizing: border-box;top: 0;bottom: 0;left: 50%;z-index: -1;}#sk-container-id-9 div.sk-parallel-item {display: flex;flex-direction: column;z-index: 1;position: relative;background-color: white;}#sk-container-id-9 div.sk-parallel-item:first-child::after {align-self: flex-end;width: 50%;}#sk-container-id-9 div.sk-parallel-item:last-child::after {align-self: flex-start;width: 50%;}#sk-container-id-9 div.sk-parallel-item:only-child::after {width: 0;}#sk-container-id-9 div.sk-dashed-wrapped {border: 1px dashed gray;margin: 0 0.4em 0.5em 0.4em;box-sizing: border-box;padding-bottom: 0.4em;background-color: white;}#sk-container-id-9 div.sk-label label {font-family: monospace;font-weight: bold;display: inline-block;line-height: 1.2em;}#sk-container-id-9 div.sk-label-container {text-align: center;}#sk-container-id-9 div.sk-container {/* jupyter's `normalize.less` sets `[hidden] { display: none; }` but bootstrap.min.css set `[hidden] { display: none !important; }` so we also need the `!important` here to be able to override the default hidden behavior on the sphinx rendered scikit-learn.org. See: https://github.com/scikit-learn/scikit-learn/issues/21755 */display: inline-block !important;position: relative;}#sk-container-id-9 div.sk-text-repr-fallback {display: none;}</style><div id=\"sk-container-id-9\" class=\"sk-top-container\"><div class=\"sk-text-repr-fallback\"><pre>GaussianMixture(n_components=2)</pre><b>In a Jupyter environment, please rerun this cell to show the HTML representation or trust the notebook. <br />On GitHub, the HTML representation is unable to render, please try loading this page with nbviewer.org.</b></div><div class=\"sk-container\" hidden><div class=\"sk-item\"><div class=\"sk-estimator sk-toggleable\"><input class=\"sk-toggleable__control sk-hidden--visually\" id=\"sk-estimator-id-9\" type=\"checkbox\" checked><label for=\"sk-estimator-id-9\" class=\"sk-toggleable__label sk-toggleable__label-arrow\">GaussianMixture</label><div class=\"sk-toggleable__content\"><pre>GaussianMixture(n_components=2)</pre></div></div></div></div></div>"
      ],
      "text/plain": [
       "GaussianMixture(n_components=2)"
      ]
     },
     "execution_count": 111,
     "metadata": {},
     "output_type": "execute_result"
    }
   ],
   "source": [
    "# Train the model using the entire dataset\n",
    "gm.fit(dma13[['dma_count', '60+', 'income100k+', 'democrat', 'republican',\n",
    "       'ctv', 'lineartv', 'abrysvo', 'comirnatyquint1+2', 'comirnatymmpv',\n",
    "       'prevnardecile1below65', 'prevnardecile1above65', 'pharmacy_count']])"
   ]
  },
  {
   "cell_type": "code",
   "execution_count": 112,
   "id": "ce66acb2",
   "metadata": {
    "scrolled": false
   },
   "outputs": [],
   "source": [
    "labels = gm.predict(df[['dma_count', '60+', 'income100k+', 'democrat', 'republican',\n",
    "       'ctv', 'lineartv', 'abrysvo', 'comirnatyquint1+2', 'comirnatymmpv',\n",
    "       'prevnardecile1below65', 'prevnardecile1above65', 'pharmacy_count']])\n",
    "\n",
    "df['labels'] = labels\n",
    "\n",
    "d0 = df[df['labels']== 0]\n",
    "d1 = df[df['labels']== 1]"
   ]
  },
  {
   "cell_type": "code",
   "execution_count": 113,
   "id": "cb68860c",
   "metadata": {},
   "outputs": [],
   "source": [
    "# predict dma195\n",
    "y195 = gm.predict(dma195[['dma_count', '60+', 'income100k+', 'democrat', 'republican',\n",
    "       'ctv', 'lineartv', 'abrysvo', 'comirnatyquint1+2', 'comirnatymmpv',\n",
    "       'prevnardecile1below65', 'prevnardecile1above65', 'pharmacy_count']])\n",
    "dma195['labels'] = y195"
   ]
  },
  {
   "cell_type": "code",
   "execution_count": 114,
   "id": "a748d52b",
   "metadata": {},
   "outputs": [],
   "source": [
    "# predict dma195\n",
    "y13 = gm.predict(dma13[['dma_count', '60+', 'income100k+', 'democrat', 'republican',\n",
    "       'ctv', 'lineartv', 'abrysvo', 'comirnatyquint1+2', 'comirnatymmpv',\n",
    "       'prevnardecile1below65', 'prevnardecile1above65', 'pharmacy_count']])\n",
    "dma13['labels'] = y13"
   ]
  },
  {
   "cell_type": "code",
   "execution_count": 115,
   "id": "9913fa01",
   "metadata": {},
   "outputs": [
    {
     "data": {
      "text/plain": [
       "\"\\ndef predict_model_from_dma(model, dma):\\n    \\n    return model.predict(dma[['dma_count', '60+', 'income100k+', 'democrat', 'republican',\\n       'ctv', 'lineartv', 'abrysvo', 'comirnatyquint1+2', 'comirnatymmpv',\\n       'prevnardecile1below65', 'prevnardecile1above65', 'pharmacy_count']])\\n\\ndmas = [dma195, dma13]\\n\\nfor dma in dmas:\\n    dma['kmeans_4'] = predict_model_from_dma(kmeans, dma)\\n    \\ndmas\\n\""
      ]
     },
     "execution_count": 115,
     "metadata": {},
     "output_type": "execute_result"
    }
   ],
   "source": [
    "# Function\n",
    "'''\n",
    "def predict_model_from_dma(model, dma):\n",
    "    \n",
    "    return model.predict(dma[['dma_count', '60+', 'income100k+', 'democrat', 'republican',\n",
    "       'ctv', 'lineartv', 'abrysvo', 'comirnatyquint1+2', 'comirnatymmpv',\n",
    "       'prevnardecile1below65', 'prevnardecile1above65', 'pharmacy_count']])\n",
    "\n",
    "dmas = [dma195, dma13]\n",
    "\n",
    "for dma in dmas:\n",
    "    dma['kmeans_4'] = predict_model_from_dma(kmeans, dma)\n",
    "    \n",
    "dmas\n",
    "'''"
   ]
  },
  {
   "cell_type": "markdown",
   "id": "460de523",
   "metadata": {},
   "source": [
    "# Check result and export below"
   ]
  },
  {
   "cell_type": "code",
   "execution_count": 116,
   "id": "bf20239e",
   "metadata": {},
   "outputs": [
    {
     "data": {
      "text/plain": [
       "0    7\n",
       "1    6\n",
       "Name: labels, dtype: int64"
      ]
     },
     "execution_count": 116,
     "metadata": {},
     "output_type": "execute_result"
    }
   ],
   "source": [
    "dma13['labels'].value_counts()"
   ]
  },
  {
   "cell_type": "code",
   "execution_count": 117,
   "id": "b360299f",
   "metadata": {
    "scrolled": true
   },
"Name: labels, dtype: int64"
      ]
     },
     "execution_count": 117,
     "metadata": {},
     "output_type": "execute_result"
    }
   ],
   "source": [
    "dma195['labels'].value_counts()"
   ]
  },
  {
   "cell_type": "code",
   "execution_count": 118,
   "id": "08ddbe14",
   "metadata": {
    "scrolled": false
   },
   "outputs": [],
   "source": [
    "# Export the DataFrame to an Excel file\n",
    "dma13.to_excel('dma13.xlsx', index=False)\n",
    "dma195.to_excel('dma195.xlsx', index=False)"
   ]
  }
 ],
 "metadata": {
  "kernelspec": {
   "display_name": "Python 3 (ipykernel)",
   "language": "python",
   "name": "python3"
  },
  "language_info": {
   "codemirror_mode": {
    "name": "ipython",
    "version": 3
   },
   "file_extension": ".py",
   "mimetype": "text/x-python",
   "name": "python",
   "nbconvert_exporter": "python",
   "pygments_lexer": "ipython3",
   "version": "3.11.3"
  }
 },
 "nbformat": 4,
 "nbformat_minor": 5
}
