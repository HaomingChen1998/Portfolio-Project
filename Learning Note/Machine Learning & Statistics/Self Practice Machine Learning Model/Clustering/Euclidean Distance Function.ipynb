{
 "cells": [
  {
   "cell_type": "code",
   "execution_count": 78,
   "id": "57102fb4",
   "metadata": {
    "scrolled": false
   },
   "outputs": [
    {
     "data": {
      "text/plain": [

       "Name: labels, dtype: int64"
      ]
     },
     "execution_count": 78,
     "metadata": {},
     "output_type": "execute_result"
    }
   ],
   "source": [
    "dma13['labels'].value_counts()"
   ]
  },
  {
   "cell_type": "code",
   "execution_count": 79,
   "id": "fecdc1c0",
   "metadata": {
    "scrolled": true
   },
   "outputs": [
    {
     "data": {
      "text/plain": [
       "0    98\n",
       "2    97\n",
       "Name: labels, dtype: int64"
      ]
     },
     "execution_count": 79,
     "metadata": {},
     "output_type": "execute_result"
    }
   ],
   "source": [
    "dma195['labels'].value_counts()"
   ]
  },
  {
   "cell_type": "code",
   "execution_count": 85,
   "id": "ef2066a1",
   "metadata": {},
   "outputs": [],
   "source": [
    "import pandas as pd\n",
    "import numpy as np"
   ]
  },
  {
   "cell_type": "code",
   "execution_count": 86,
   "id": "63c48ade",
   "metadata": {
    "scrolled": true
   },
   "outputs": [],
   "source": [
    "dma13 = pd.read_excel()\n",
    "dma195 = pd.read_excel()"
   ]
  },
  {
   "cell_type": "code",
   "execution_count": 87,
   "id": "049a789b",
   "metadata": {},
   "outputs": [],
   "source": [
    "# Loop over the dataframes and replace blank spaces with underscore, small case columns, drop first column\n",
    "for df in [dma13, dma195]:\n",
    "    df.rename(columns=lambda x: x.replace(' ', '_').lower(), inplace=True)\n",
    "    df.drop(df.columns[0], axis=1, inplace=True)"
   ]
  },
  {
   "cell_type": "code",
   "execution_count": 1,
   "id": "9e45e687",
   "metadata": {},
   "outputs": [],
   "source": [
    "from scipy.spatial.distance import euclidean\n",
    "\n",
    "columns = ['dma_count', '60+', 'income100k+', 'democrat', 'republican', 'ctv',\n",
    "            'lineartv', 'abrysvo', 'comirnatyquint1+2', 'comirnatymmpv',\n",
    "            'prevnardecile1below65', 'prevnardecile1above65', 'pharmacy_count',\n",
    "            'latitude', 'longitude']\n",
    "\n",
    "def calculate_distances(dma13, dma195, columns):\n",
    "    distances = []\n",
    "    for i in range(len(dma13)):\n",
    "        for j in range(len(dma195)):\n",
    "            if ((dma13.loc[i, 'labels'] == 2 and dma195.loc[j, 'labels'] == 2)\\\n",
    "            or (dma13.loc[i, 'labels'] == 0 and dma195.loc[j, 'labels'] == 0)\\\n",
    "            or dma13.loc[i, 'labels'] == 1\\\n",
    "            or dma13.loc[i, 'labels'] == 3):\n",
    "                row_13 = dma13.loc[i, columns].values\n",
    "                row_195 = dma195.loc[j, columns].values\n",
    "                distance = euclidean(row_13, row_195)\n",
    "                distances.append((dma13.loc[i, 'dma'], dma195.loc[j, 'dma'], distance))\n",
    "\n",
    "    # Sort the distances list by DMA name and then by distance\n",
    "    distances.sort(key=lambda x: (x[0], x[2]))\n",
    "    \n",
    "    # Print the sorted distances\n",
    "    for dma13_name, dma195_name, distance in distances:\n",
    "        print('The distance between', dma13_name, 'and', dma195_name, 'is', distance)\n",
    "\n",
    "calculate_distances(dma13, dma195, columns)"
   ]
  }
 ],
 "metadata": {
  "kernelspec": {
   "display_name": "Python 3 (ipykernel)",
   "language": "python",
   "name": "python3"
  },
  "language_info": {
   "codemirror_mode": {
    "name": "ipython",
    "version": 3
   },
   "file_extension": ".py",
   "mimetype": "text/x-python",
   "name": "python",
   "nbconvert_exporter": "python",
   "pygments_lexer": "ipython3",
   "version": "3.11.3"
  }
 },
 "nbformat": 4,
 "nbformat_minor": 5
}
