{
 "cells": [
  {
   "cell_type": "code",
   "execution_count": 6,
   "id": "a881a390",
   "metadata": {},
   "outputs": [],
   "source": [
    "import pandas as pd\n",
    "import numpy as np\n",
    "import matplotlib.pyplot as plt\n",
    "from sklearn.linear_model import LinearRegression\n",
    "from sklearn.model_selection import train_test_split\n",
    "from sklearn.preprocessing import PolynomialFeatures\n",
    "from sklearn.metrics import r2_score"
   ]
  },
  {
   "cell_type": "code",
   "execution_count": 2,
   "id": "83ce8ca5",
   "metadata": {},
   "outputs": [],
   "source": [
    "# I want to predict the future leads with different spending\n",
    "x = df[['Spend']]\n",
    "y = df[['Leads']]"
   ]
  },
  {
   "cell_type": "code",
   "execution_count": 4,
   "id": "e14b5619",
   "metadata": {},
   "outputs": [],
   "source": [
    "# The reason why we use polynomial regression is to account for diminishing return.\n",
    "# Degree=2 instead of 3 b/c it will make the model too complex, making it to try to fit the noise, resulting in overfitting.\n",
    "# include_bias=False is to make the model less complex, which prevent overfitting and compensate for degree=2.\n",
    "poly = PolynomialFeatures(degree=2, include_bias=False)\n",
    "x_poly = poly.fit_transform(x)"
   ]
  },
  {
   "cell_type": "code",
   "execution_count": 8,
   "id": "ad490eaf",
   "metadata": {},
   "outputs": [],
   "source": [
    "# Note that I use x_poly instead of x\n",
    "x_train, x_test, y_train, y_test = train_test_split(x_poly, y, test_size=0.2, random_state=42)"
   ]
  },
  {
   "cell_type": "code",
   "execution_count": null,
   "id": "1b856976",
   "metadata": {},
   "outputs": [],
   "source": [
    "model = LinearRegression()"
   ]
  },
  {
   "cell_type": "code",
   "execution_count": null,
   "id": "3b302b64",
   "metadata": {},
   "outputs": [],
   "source": [
    "model.fit(x_train, y_train)"
   ]
  },
  {
   "cell_type": "code",
   "execution_count": null,
   "id": "265622a2",
   "metadata": {},
   "outputs": [],
   "source": [
    "# Measure goodness of fit\n",
    "r2 = r2_score(y_test, y_predict)\n",
    "r2"
   ]
  },
  {
   "cell_type": "code",
   "execution_count": null,
   "id": "578b8064",
   "metadata": {},
   "outputs": [],
   "source": [
    "budgets = [1,2,3,4]\n",
    "predictions = []\n",
    "for budget in budgets:\n",
    "    X_new = np.array([[budget]])\n",
    "    X_new_poly = poly.transform(X_new)\n",
    "    y_pred = model.predict(X_new_poly)\n",
    "    predictions.append(y_pred[0])\n",
    "    print('Predicted CPL for budget of', budget, ':', y_pred[0])"
   ]
  },
  {
   "cell_type": "code",
   "execution_count": null,
   "id": "36f6d761",
   "metadata": {},
   "outputs": [],
   "source": [
    "# Visualization\n",
    "plt.plot(df['Spend'], df['Leads'], 'o') # Show spend and leads with dots.\n",
    "plt.plot(df['Spend'], model.predict(X_poly), '-') # Show spend and predicted leads with lines\n",
    "plt.plot(budgets, predictions, 'o') # Show budget and predictions with dots.\n",
    "plt.xlabel('x-axis label')\n",
    "plt.ylabel('y-axis label')\n",
    "plt.title('title')\n",
    "plt.show()"
   ]
  },
  {
   "cell_type": "code",
   "execution_count": 19,
   "id": "3ccb1f1b",
   "metadata": {},
   "outputs": [],
   "source": [
    "df2 = pd.DataFrame(budgets, predictions)"
   ]
  }
 ],
 "metadata": {
  "kernelspec": {
   "display_name": "Python 3 (ipykernel)",
   "language": "python",
   "name": "python3"
  },
  "language_info": {
   "codemirror_mode": {
    "name": "ipython",
    "version": 3
   },
   "file_extension": ".py",
   "mimetype": "text/x-python",
   "name": "python",
   "nbconvert_exporter": "python",
   "pygments_lexer": "ipython3",
   "version": "3.11.3"
  }
 },
 "nbformat": 4,
 "nbformat_minor": 5
}
