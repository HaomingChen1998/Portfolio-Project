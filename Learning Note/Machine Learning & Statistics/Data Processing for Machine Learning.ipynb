{
 "cells": [
  {
   "cell_type": "markdown",
   "id": "f0acb1c4",
   "metadata": {},
   "source": [
    "Data Processing for Machine Learning"
   ]
  },
  {
   "cell_type": "code",
   "execution_count": 1,
   "id": "5f1d42c6",
   "metadata": {},
   "outputs": [],
   "source": [
    "import pandas as pd\n",
    "import numpy as np\n",
    "import seaborn as sns\n",
    "from sklearn.linear_model import LogisticRegression\n",
    "from sklearn.model_selection import train_test_split\n",
    "import warnings # Ignore harmless warnings\n",
    "warnings.filterwarnings(\"ignore\")\n",
    "import matplotlib\n",
    "import matplotlib.pyplot as plt\n",
    "plt.style.use('ggplot')\n",
    "from matplotlib.pyplot import figure\n",
    "%matplotlib inline\n",
    "matplotlib.rcParams['figure.figsize'] = (12,8) # Adjusts the configuration of the plots we will create"
   ]
  },
  {
   "cell_type": "code",
   "execution_count": null,
   "id": "8b37a955",
   "metadata": {},
   "outputs": [],
   "source": [
    "df = pd.read_csv(r\"C:\\Users\\Cody\\Desktop\\HR_comma_sep.csv\")"
   ]
  },
  {
   "cell_type": "code",
   "execution_count": 4,
   "id": "fa94b751",
   "metadata": {
    "scrolled": true
   },
   "outputs": [
    {
     "data": {
      "text/html": [
       "<div>\n",
       "<style scoped>\n",
       "    .dataframe tbody tr th:only-of-type {\n",
       "        vertical-align: middle;\n",
       "    }\n",
       "\n",
       "    .dataframe tbody tr th {\n",
       "        vertical-align: top;\n",
       "    }\n",
       "\n",
       "    .dataframe thead th {\n",
       "        text-align: right;\n",
       "    }\n",
       "</style>\n",
       "<table border=\"1\" class=\"dataframe\">\n",
       "  <thead>\n",
       "    <tr style=\"text-align: right;\">\n",
       "      <th></th>\n",
       "      <th>satisfaction_level</th>\n",
       "      <th>last_evaluation</th>\n",
       "      <th>number_project</th>\n",
       "      <th>average_montly_hours</th>\n",
       "      <th>time_spend_company</th>\n",
       "      <th>Work_accident</th>\n",
       "      <th>left</th>\n",
       "      <th>promotion_last_5years</th>\n",
       "      <th>Department</th>\n",
       "      <th>salary</th>\n",
       "    </tr>\n",
       "  </thead>\n",
       "  <tbody>\n",
       "    <tr>\n",
       "      <th>0</th>\n",
       "      <td>0.38</td>\n",
       "      <td>0.53</td>\n",
       "      <td>2</td>\n",
       "      <td>157</td>\n",
       "      <td>3</td>\n",
       "      <td>0</td>\n",
       "      <td>1</td>\n",
       "      <td>0</td>\n",
       "      <td>sales</td>\n",
       "      <td>low</td>\n",
       "    </tr>\n",
       "    <tr>\n",
       "      <th>1</th>\n",
       "      <td>0.80</td>\n",
       "      <td>0.86</td>\n",
       "      <td>5</td>\n",
       "      <td>262</td>\n",
       "      <td>6</td>\n",
       "      <td>0</td>\n",
       "      <td>1</td>\n",
       "      <td>0</td>\n",
       "      <td>sales</td>\n",
       "      <td>medium</td>\n",
       "    </tr>\n",
       "    <tr>\n",
       "      <th>2</th>\n",
       "      <td>0.11</td>\n",
       "      <td>0.88</td>\n",
       "      <td>7</td>\n",
       "      <td>272</td>\n",
       "      <td>4</td>\n",
       "      <td>0</td>\n",
       "      <td>1</td>\n",
       "      <td>0</td>\n",
       "      <td>sales</td>\n",
       "      <td>medium</td>\n",
       "    </tr>\n",
       "    <tr>\n",
       "      <th>3</th>\n",
       "      <td>0.72</td>\n",
       "      <td>0.87</td>\n",
       "      <td>5</td>\n",
       "      <td>223</td>\n",
       "      <td>5</td>\n",
       "      <td>0</td>\n",
       "      <td>1</td>\n",
       "      <td>0</td>\n",
       "      <td>sales</td>\n",
       "      <td>low</td>\n",
       "    </tr>\n",
       "    <tr>\n",
       "      <th>4</th>\n",
       "      <td>0.37</td>\n",
       "      <td>0.52</td>\n",
       "      <td>2</td>\n",
       "      <td>159</td>\n",
       "      <td>3</td>\n",
       "      <td>0</td>\n",
       "      <td>1</td>\n",
       "      <td>0</td>\n",
       "      <td>sales</td>\n",
       "      <td>low</td>\n",
       "    </tr>\n",
       "  </tbody>\n",
       "</table>\n",
       "</div>"
      ],
      "text/plain": [
       "   satisfaction_level  last_evaluation  number_project  average_montly_hours  \\\n",
       "0                0.38             0.53               2                   157   \n",
       "1                0.80             0.86               5                   262   \n",
       "2                0.11             0.88               7                   272   \n",
       "3                0.72             0.87               5                   223   \n",
       "4                0.37             0.52               2                   159   \n",
       "\n",
       "   time_spend_company  Work_accident  left  promotion_last_5years Department  \\\n",
       "0                   3              0     1                      0      sales   \n",
       "1                   6              0     1                      0      sales   \n",
       "2                   4              0     1                      0      sales   \n",
       "3                   5              0     1                      0      sales   \n",
       "4                   3              0     1                      0      sales   \n",
       "\n",
       "   salary  \n",
       "0     low  \n",
       "1  medium  \n",
       "2  medium  \n",
       "3     low  \n",
       "4     low  "
      ]
     },
     "execution_count": 4,
     "metadata": {},
     "output_type": "execute_result"
    }
   ],
   "source": [
    "df.head()"
   ]
  },
  {
   "cell_type": "code",
   "execution_count": null,
   "id": "932db102",
   "metadata": {},
   "outputs": [],
   "source": [
    "# Check if there are unique columns to tell if 2 rows are duplicates of each other\n",
    "df = df.drop_duplicates()\n",
    "df.shape # Check to see how many rows dropped."
   ]
  },
  {
   "cell_type": "code",
   "execution_count": null,
   "id": "e1bb754e",
   "metadata": {},
   "outputs": [],
   "source": [
    "# Check the types of each column, making sure date column is actually date instead of string.\n",
    "df.dtypes"
   ]
  },
  {
   "cell_type": "code",
   "execution_count": null,
   "id": "a144a474",
   "metadata": {},
   "outputs": [],
   "source": [
    "# Timestamp column needs to be in the datetime format\n",
    "df['Timestamp'] = df['Timestamp'].astype('datetime64[ns]')"
   ]
  },
  {
   "cell_type": "code",
   "execution_count": null,
   "id": "ccecd8d0",
   "metadata": {},
   "outputs": [],
   "source": [
    "# For classification problems, I can break it into year, month, day, hour, minute, second as needed.\n",
    "df['year'] = df['Timestamp'].dt.year\n",
    "df['month'] = df['Timestamp'].dt.month\n",
    "df['day'] = df['Timestamp'].dt.day"
   ]
  },
  {
   "cell_type": "code",
   "execution_count": 5,
   "id": "eacb9b2a",
   "metadata": {},
   "outputs": [
    {
     "data": {
      "text/plain": [
       "(14999, 10)"
      ]
     },
     "execution_count": 5,
     "metadata": {},
     "output_type": "execute_result"
    }
   ],
   "source": [
    "df.shape"
   ]
  },
  {
   "cell_type": "code",
   "execution_count": 6,
   "id": "0aa8f11f",
   "metadata": {
    "scrolled": true
   },
   "outputs": [
    {
     "name": "stdout",
     "output_type": "stream",
     "text": [
      "satisfaction_level        92\n",
      "last_evaluation           65\n",
      "number_project             6\n",
      "average_montly_hours     215\n",
      "time_spend_company         8\n",
      "Work_accident              2\n",
      "left                       2\n",
      "promotion_last_5years      2\n",
      "Department                10\n",
      "salary                     3\n",
      "dtype: int64\n"
     ]
    }
   ],
   "source": [
    "# Number of unique values in each column\n",
    "unique_counts = df.nunique()\n",
    "print(unique_counts)"
   ]
  },
  {
   "cell_type": "code",
   "execution_count": 7,
   "id": "a6974bcd",
   "metadata": {},
   "outputs": [
    {
     "name": "stdout",
     "output_type": "stream",
     "text": [
      "satisfaction_level: [0.38 0.8  0.11 0.72 0.37 0.41 0.1  0.92 0.89 0.42 0.45 0.84 0.36 0.78\n",
      " 0.76 0.09 0.46 0.4  0.82 0.87 0.57 0.43 0.13 0.44 0.39 0.85 0.81 0.9\n",
      " 0.74 0.79 0.17 0.24 0.91 0.71 0.86 0.14 0.75 0.7  0.31 0.73 0.83 0.32\n",
      " 0.54 0.27 0.77 0.88 0.48 0.19 0.6  0.12 0.61 0.33 0.56 0.47 0.28 0.55\n",
      " 0.53 0.59 0.66 0.25 0.34 0.58 0.51 0.35 0.64 0.5  0.23 0.15 0.49 0.3\n",
      " 0.63 0.21 0.62 0.29 0.2  0.16 0.65 0.68 0.67 0.22 0.26 0.99 0.98 1.\n",
      " 0.52 0.93 0.97 0.69 0.94 0.96 0.18 0.95]\n",
      "last_evaluation: [0.53 0.86 0.88 0.87 0.52 0.5  0.77 0.85 1.   0.54 0.81 0.92 0.55 0.56\n",
      " 0.47 0.99 0.51 0.89 0.83 0.95 0.57 0.49 0.46 0.62 0.94 0.48 0.8  0.74\n",
      " 0.7  0.78 0.91 0.93 0.98 0.97 0.79 0.59 0.84 0.45 0.96 0.68 0.82 0.9\n",
      " 0.71 0.6  0.65 0.58 0.72 0.67 0.75 0.73 0.63 0.61 0.76 0.66 0.69 0.37\n",
      " 0.64 0.39 0.41 0.43 0.44 0.36 0.38 0.4  0.42]\n",
      "number_project: [2 5 7 6 4 3]\n",
      "average_montly_hours: [157 262 272 223 159 153 247 259 224 142 135 305 234 148 137 143 160 255\n",
      " 282 147 304 139 158 242 239 128 132 294 134 145 140 246 126 306 152 269\n",
      " 127 281 276 182 273 307 309 225 226 308 244 286 161 264 277 275 149 295\n",
      " 151 249 291 232 130 129 155 265 279 284 221 154 150 267 257 177 144 289\n",
      " 258 263 251 133 216 300 138 260 183 250 292 283 245 256 278 240 136 301\n",
      " 243 296 274 164 146 261 285 141 297 156 287 219 254 228 131 252 236 270\n",
      " 298 192 248 266 238 229 233 268 231 253 302 271 290 235 293 241 218 199\n",
      " 180 195 237 227 172 206 181 217 310 214 198 211 222 213 202 184 204 288\n",
      " 220 299 303 212 196 179 205 230 203 280 169 188 178 175 166 163 168 165\n",
      " 189 162 215 193 176 191 174 201 208 171 111 104 106 100 194 209 185 200\n",
      " 207 187 210 186 167 108 122 110 115 197 102 109 190  99 101  97 173 121\n",
      " 170 105 118 119 117 114  96  98 107 123 116 125 113 120 112 124 103]\n",
      "time_spend_company: [ 3  6  4  5  2  8 10  7]\n",
      "Work_accident: [0 1]\n",
      "left: [1 0]\n",
      "promotion_last_5years: [0 1]\n",
      "Department: ['sales' 'accounting' 'hr' 'technical' 'support' 'management' 'IT'\n",
      " 'product_mng' 'marketing' 'RandD']\n",
      "salary: ['low' 'medium' 'high']\n"
     ]
    }
   ],
   "source": [
    "# Find the unique values in each column, to see if there are any categorical data needed to be transformed to numbers.\n",
    "for col in df:\n",
    "    print(f'{col}: {df[col].unique()}')"
   ]
  },
  {
   "cell_type": "code",
   "execution_count": 8,
   "id": "e4aa17ef",
   "metadata": {
    "scrolled": true
   },
   "outputs": [
    {
     "data": {
      "text/plain": [
       "<AxesSubplot:>"
      ]
     },
     "execution_count": 8,
     "metadata": {},
     "output_type": "execute_result"
    },
    {
     "data": {
      "image/png": "[encoded data removed]",
      "text/plain": [
       "<Figure size 864x576 with 2 Axes>"
      ]
     },
     "metadata": {
      "needs_background": "light"
     },
     "output_type": "display_data"
    }
   ],
   "source": [
    "# See if there are null values from any column\n",
    "sns.heatmap(df.isnull(), yticklabels=False, cmap='viridis')"
   ]
  },
  {
   "cell_type": "code",
   "execution_count": 9,
   "id": "b280d870",
   "metadata": {
    "scrolled": true
   },
   "outputs": [
    {
     "name": "stdout",
     "output_type": "stream",
     "text": [
      "satisfaction_level - 0.0%\n",
      "last_evaluation - 0.0%\n",
      "number_project - 0.0%\n",
      "average_montly_hours - 0.0%\n",
      "time_spend_company - 0.0%\n",
      "Work_accident - 0.0%\n",
      "left - 0.0%\n",
      "promotion_last_5years - 0.0%\n",
      "Department - 0.0%\n",
      "salary - 0.0%\n"
     ]
    }
   ],
   "source": [
    "for col in df.columns:\n",
    "    pct_missing = np.mean(df[col].isnull())\n",
    "    print('{} - {}%'.format(col, pct_missing))"
   ]
  },
  {
   "cell_type": "code",
   "execution_count": null,
   "id": "823e1c0a",
   "metadata": {},
   "outputs": [],
   "source": [
    "# If your dataset is large, and only a few rows with null values.\n",
    "df = df.dropna()\n",
    "df.shape"
   ]
  },
  {
   "cell_type": "code",
   "execution_count": 10,
   "id": "ec7141cc",
   "metadata": {},
   "outputs": [],
   "source": [
    "# In this case, we don't have null values, but if we have too many null, we do the following.\n",
    "from sklearn.impute import SimpleImputer\n",
    "imputer = SimpleImputer(missing_values=np.nan, strategy='mean') # Empty values, replaced by mean\n",
    "imputer.fit(x[:, 1:3]) # Only numerical columns, it will look through all rows, columns 1-3\n",
    "x[:, 1:3] = imputer.transform(x[:, 1:3]) # The 2nd and 3rd column of x will be replaced by the new data\n",
    "# You can use print(x) to see the values"
   ]
  },
  {
   "cell_type": "code",
   "execution_count": null,
   "id": "495fae41",
   "metadata": {},
   "outputs": [],
   "source": [
    "# Depending on the dataset, NA can also mean 0. If so, you can replace NA with 0.\n",
    "zero_fill_list = ['column_name', 'column_name_2']\n",
    "df[zero_fill_list] = df[zero_fill_list].fillna(0)"
   ]
  },
  {
   "attachments": {
    "unnamed-chunk-5-1.png": {
     "image/png": "[encoded data removed]"
    }
   },
   "cell_type": "markdown",
   "id": "8f28678c",
   "metadata": {},
   "source": [
    "![unnamed-chunk-5-1.png](attachment:unnamed-chunk-5-1.png)"
   ]
  },
  {
   "cell_type": "code",
   "execution_count": 5,
   "id": "4f33da3a",
   "metadata": {
    "scrolled": false
   },
   "outputs": [
    {
     "data": {
      "text/plain": [
       "<AxesSubplot:ylabel='time_spend_company'>"
      ]
     },
     "execution_count": 5,
     "metadata": {},
     "output_type": "execute_result"
    },
    {
     "data": {
      "image/png": "[encoded data removed]",
      "text/plain": [
       "<Figure size 864x576 with 1 Axes>"
      ]
     },
     "metadata": {
      "needs_background": "light"
     },
     "output_type": "display_data"
    }
   ],
   "source": [
    "# Check for outliers\n",
    "# Black dots are outliers\n",
    "sns.boxplot(y='time_spend_company', data=df)"
   ]
  },
  {
   "cell_type": "code",
   "execution_count": 18,
   "id": "aaee5aa6",
   "metadata": {},
   "outputs": [],
   "source": [
    "# Outlier treatement\n",
    "outlier = np.percentile(df['Area Income'], [99])[0] # Find the outliers\n",
    "df = df[(df['Area Income'] < outlier)] # Remove those outliers"
   ]
  },
  {
   "cell_type": "code",
   "execution_count": 29,
   "id": "22e21dff",
   "metadata": {},
   "outputs": [],
   "source": [
    "# Feature Scaling: Prevent some features to dominate other features.\n",
    "# No need to do this for all models. \n",
    "# Ex: Linear Regression has coeffient that take account which feature has higher and lower influence.\n",
    "# Do not use on dummy variables because they will lose interpretation.\n",
    "#np.set_printoptions(threshold=np.inf)\n",
    "#print(x_train)\n",
    "# Feature Scaling, drop columns with 'Time' or 'Dummy Variables'\n",
    "from sklearn.preprocessing import StandardScaler\n",
    "sc = StandardScaler()\n",
    "columns_to_scale = ['Daily Time Spent on Site', 'Age', 'Area Income', 'Daily Internet Usage']\n",
    "df[columns_to_scale] = sc.fit_transform(df[columns_to_scale])"
   ]
  },
  {
   "cell_type": "code",
   "execution_count": null,
   "id": "be2b9494",
   "metadata": {},
   "outputs": [],
   "source": [
    "# Creating Dummy Variables, OneHotEncoder method #2\n",
    "df = pd.get_dummies(dataset, drop_first=True)"
   ]
  },
  {
   "cell_type": "code",
   "execution_count": null,
   "id": "13241a8d",
   "metadata": {},
   "outputs": [],
   "source": [
    "# Encoding Categorical Data for Independent Variables \n",
    "# department(x) and salary(y) column are strings, I need to convert them into numbers\n",
    "# I create new columns for each value from the original column.\n",
    "# Ex: salary has ['low' 'medium' 'high'], it create new columns: Low, Medium, High with 0 and 1 as output.\n",
    "from sklearn.compose import ColumnTransformer\n",
    "from sklearn.preprocessing import OneHotEncoder\n",
    "ct = ColumnTransformer(transformers=[('encoder', OneHotEncoder(), [-2, -1])], remainder='passthrough')\n",
    "x = np.array(ct.fit_transform(x))\n",
    "# ct=ColumnTransformer: [-2, -1] is referring to the last two columns department, salary."
   ]
  },
  {
   "cell_type": "code",
   "execution_count": 12,
   "id": "8f22fb46",
   "metadata": {},
   "outputs": [],
   "source": [
    "# Encoding Categorical Data for Dependent Variables\n",
    "from sklearn.preprocessing import LabelEncoder\n",
    "le = LabelEncoder() # le = LabelEncoder\n",
    "y = le.fit_transform(y)"
   ]
  },
  {
   "cell_type": "code",
   "execution_count": null,
   "id": "ca1f8816",
   "metadata": {},
   "outputs": [],
   "source": [
    "# identify independent and dependent variables, salary is dependent, everything else is indepedent.\n",
    "x = df.iloc[:, :-1].values\n",
    "y = df.iloc[:, -1].values"
   ]
  },
  {
   "cell_type": "code",
   "execution_count": null,
   "id": "06b685d6",
   "metadata": {},
   "outputs": [],
   "source": [
    "# Identify variables method #2\n",
    "from sklearn.model_selection import train_test_split\n",
    "X = df.drop('Clicked on Ad', axis=1)\n",
    "y = df['Clicked on Ad']"
   ]
  },
  {
   "cell_type": "code",
   "execution_count": 13,
   "id": "f366f2a4",
   "metadata": {},
   "outputs": [],
   "source": [
    "# Split Train/Test set\n",
    "from sklearn.model_selection import train_test_split\n",
    "x_train, x_test, y_train, y_test = train_test_split(x, y, test_size=0.2, random_state=42)"
   ]
  }
 ],
 "metadata": {
  "kernelspec": {
   "display_name": "Python 3 (ipykernel)",
   "language": "python",
   "name": "python3"
  },
  "language_info": {
   "codemirror_mode": {
    "name": "ipython",
    "version": 3
   },
   "file_extension": ".py",
   "mimetype": "text/x-python",
   "name": "python",
   "nbconvert_exporter": "python",
   "pygments_lexer": "ipython3",
   "version": "3.11.3"
  }
 },
 "nbformat": 4,
 "nbformat_minor": 5
}
