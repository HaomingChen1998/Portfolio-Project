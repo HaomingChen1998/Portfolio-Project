{
 "cells": [
  {
   "cell_type": "markdown",
   "id": "3dc79769",
   "metadata": {},
   "source": [
    "# Function"
   ]
  },
  {
   "cell_type": "code",
   "execution_count": 7,
   "id": "4c07c2e6",
   "metadata": {},
   "outputs": [],
   "source": [
    "def happy_birthday():\n",
    "    print(\"Happy Birthday\")\n",
    "    print()\n",
    "    print(\"Happy Birthday\")"
   ]
  },
  {
   "cell_type": "code",
   "execution_count": 8,
   "id": "f808849b",
   "metadata": {},
   "outputs": [
    {
     "name": "stdout",
     "output_type": "stream",
     "text": [
      "Happy Birthday\n",
      "\n",
      "Happy Birthday\n"
     ]
    }
   ],
   "source": [
    "happy_birthday()"
   ]
  },
  {
   "cell_type": "code",
   "execution_count": 16,
   "id": "ee63cbe6",
   "metadata": {},
   "outputs": [],
   "source": [
    "def happy_birthday_name(name):\n",
    "    print(f\"Happy Birthday to {name}\")"
   ]
  },
  {
   "cell_type": "code",
   "execution_count": 17,
   "id": "a847e539",
   "metadata": {},
   "outputs": [
    {
     "name": "stdout",
     "output_type": "stream",
     "text": [
      "Happy Birthday to Jason\n"
     ]
    }
   ],
   "source": [
    "happy_birthday_name(\"Jason\")"
   ]
  },
  {
   "cell_type": "code",
   "execution_count": 18,
   "id": "01401f12",
   "metadata": {},
   "outputs": [],
   "source": [
    "def happy_birthday_name_age(name, age):\n",
    "    print(f\"Happy Birthday to {name}\")\n",
    "    print()\n",
    "    print(f\"You are now {age} years ago!\")"
   ]
  },
  {
   "cell_type": "code",
   "execution_count": 21,
   "id": "61e02e17",
   "metadata": {},
   "outputs": [
    {
     "name": "stdout",
     "output_type": "stream",
     "text": [
      "Happy Birthday to Jason\n",
      "\n",
      "You are now 16 years ago!\n"
     ]
    }
   ],
   "source": [
    "happy_birthday_name_age(\"Jason\", 16)"
   ]
  },
  {
   "cell_type": "code",
   "execution_count": 22,
   "id": "00b8a953",
   "metadata": {},
   "outputs": [],
   "source": [
    "def add(x, y):\n",
    "    z = x + y\n",
    "    return z"
   ]
  },
  {
   "cell_type": "code",
   "execution_count": 23,
   "id": "431aab64",
   "metadata": {},
   "outputs": [
    {
     "data": {
      "text/plain": [
       "3"
      ]
     },
     "execution_count": 23,
     "metadata": {},
     "output_type": "execute_result"
    }
   ],
   "source": [
    "add(1,2)"
   ]
  },
  {
   "cell_type": "code",
   "execution_count": 31,
   "id": "bca47f42",
   "metadata": {},
   "outputs": [],
   "source": [
    "def format_name(first, last):\n",
    "    first = first.capitalize()\n",
    "    last = last.capitalize()\n",
    "    return first + ' ' + last"
   ]
  },
  {
   "cell_type": "code",
   "execution_count": 32,
   "id": "72140d8a",
   "metadata": {},
   "outputs": [
    {
     "data": {
      "text/plain": [
       "'Cody Chen'"
      ]
     },
     "execution_count": 32,
     "metadata": {},
     "output_type": "execute_result"
    }
   ],
   "source": [
    "format_name(\"cody\", \"chen\")"
   ]
  },
  {
   "cell_type": "markdown",
   "id": "bbe49e32",
   "metadata": {},
   "source": [
    "# If else"
   ]
  },
  {
   "cell_type": "code",
   "execution_count": 8,
   "id": "6ad0258a",
   "metadata": {},
   "outputs": [
    {
     "name": "stdout",
     "output_type": "stream",
     "text": [
      "Enter your age: 18\n",
      "adult\n"
     ]
    }
   ],
   "source": [
    "# You can add as many elif as you want.\n",
    "age = int(input(\"Enter your age: \"))\n",
    "\n",
    "if age >= 18:\n",
    "    print('adult')\n",
    "elif age < 0:\n",
    "    print('wrong data')\n",
    "else:\n",
    "    print('not adult')"
   ]
  },
  {
   "cell_type": "code",
   "execution_count": 3,
   "id": "9e048083",
   "metadata": {},
   "outputs": [
    {
     "name": "stdout",
     "output_type": "stream",
     "text": [
      "Would you like food? (Y/N): Y\n",
      "Have some food\n"
     ]
    }
   ],
   "source": [
    "response = input(\"Would you like food? (Y/N): \")\n",
    "\n",
    "if response == \"Y\":\n",
    "    print(\"Have some food\")\n",
    "else:\n",
    "    print(\"No food for you\")"
   ]
  },
  {
   "cell_type": "markdown",
   "id": "3ae8831c",
   "metadata": {},
   "source": [
    "# While loop\n",
    "- execute some code WHILE some condition remains TRUE"
   ]
  },
  {
   "cell_type": "code",
   "execution_count": 9,
   "id": "59fd50ac",
   "metadata": {},
   "outputs": [
    {
     "name": "stdout",
     "output_type": "stream",
     "text": [
      "enter your name: \n",
      "you did not enter your name\n",
      "enter your name: \n",
      "you did not enter your name\n",
      "enter your name: cody\n",
      "hello cody\n"
     ]
    }
   ],
   "source": [
    "# It will keep asking you to enter your name until a name is entered, it will then run last line of code.\n",
    "name = input(\"enter your name: \")\n",
    "\n",
    "while name =='':\n",
    "    print ('you did not enter your name')\n",
    "    name = input(\"enter your name: \")\n",
    "print(f'hello {name}')"
   ]
  },
  {
   "cell_type": "code",
   "execution_count": null,
   "id": "226ad6ce",
   "metadata": {},
   "outputs": [],
   "source": [
    "# While something is not true is also an option\n",
    "while not food == 'quit'\n",
    "\n",
    "# You can use 'or' in while loop\n",
    "while num < 1 or num > 10"
   ]
  },
  {
   "cell_type": "markdown",
   "id": "69e08ebb",
   "metadata": {},
   "source": [
    "# For loops\n",
    "- execute a block of code a fixed number of times"
   ]
  },
  {
   "cell_type": "code",
   "execution_count": 13,
   "id": "62dbced6",
   "metadata": {
    "scrolled": true
   },
   "outputs": [
    {
     "name": "stdout",
     "output_type": "stream",
     "text": [
      "1\n",
      "3\n"
     ]
    }
   ],
   "source": [
    "# 2 is the steps, you can do reversed(range(1,5)) to count backward.\n",
    "for x in range(1, 5, 2):\n",
    "    print(x)"
   ]
  },
  {
   "cell_type": "code",
   "execution_count": 20,
   "id": "6685fc6a",
   "metadata": {},
   "outputs": [
    {
     "name": "stdout",
     "output_type": "stream",
     "text": [
      "9\n",
      "1\n",
      "1\n"
     ]
    }
   ],
   "source": [
    "phone_number = '911'\n",
    "for x in phone_number:\n",
    "    print(x)"
   ]
  },
  {
   "cell_type": "code",
   "execution_count": 22,
   "id": "863ca221",
   "metadata": {},
   "outputs": [
    {
     "name": "stdout",
     "output_type": "stream",
     "text": [
      "1\n",
      "2\n",
      "4\n"
     ]
    }
   ],
   "source": [
    "# Skips 3\n",
    "# if you replace continue with break, it will exit the loop entirely when x == 3.\n",
    "for x in range(1,5):\n",
    "    if x == 3:\n",
    "        continue\n",
    "    else:\n",
    "        print(x)"
   ]
  },
  {
   "cell_type": "markdown",
   "id": "c9d4ed6d",
   "metadata": {},
   "source": [
    "# Nested loop\n",
    "- loop within another loop (outer, inner)"
   ]
  },
  {
   "cell_type": "code",
   "execution_count": 28,
   "id": "44ede058",
   "metadata": {},
   "outputs": [
    {
     "name": "stdout",
     "output_type": "stream",
     "text": [
      "1 2 1 2 1 2 "
     ]
    }
   ],
   "source": [
    "# Numbers horizontally instead of vertically.\n",
    "for x in range(3): # Run the following code 3 times\n",
    "    for x in range(1,3):\n",
    "        print(x, end=\" \")"
   ]
  }
 ],
 "metadata": {
  "kernelspec": {
   "display_name": "Python 3 (ipykernel)",
   "language": "python",
   "name": "python3"
  },
  "language_info": {
   "codemirror_mode": {
    "name": "ipython",
    "version": 3
   },
   "file_extension": ".py",
   "mimetype": "text/x-python",
   "name": "python",
   "nbconvert_exporter": "python",
   "pygments_lexer": "ipython3",
   "version": "3.11.3"
  }
 },
 "nbformat": 4,
 "nbformat_minor": 5
}
